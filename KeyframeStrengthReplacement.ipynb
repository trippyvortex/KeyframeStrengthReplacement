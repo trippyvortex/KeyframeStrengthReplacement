{
  "nbformat": 4,
  "nbformat_minor": 0,
  "metadata": {
    "colab": {
      "provenance": [],
      "authorship_tag": "ABX9TyPox8FBWt++fhx+UHAEddA4",
      "include_colab_link": true
    },
    "kernelspec": {
      "name": "python3",
      "display_name": "Python 3"
    },
    "language_info": {
      "name": "python"
    }
  },
  "cells": [
    {
      "cell_type": "markdown",
      "metadata": {
        "id": "view-in-github",
        "colab_type": "text"
      },
      "source": [
        "<a href=\"https://colab.research.google.com/github/trippyvortex/KeyframeStrengthReplacement/blob/main/KeyframeStrengthReplacement.ipynb\" target=\"_parent\"><img src=\"https://colab.research.google.com/assets/colab-badge.svg\" alt=\"Open In Colab\"/></a>"
      ]
    },
    {
      "cell_type": "code",
      "execution_count": null,
      "metadata": {
        "id": "w01fl5X1TZV6"
      },
      "outputs": [],
      "source": []
    },
    {
      "cell_type": "code",
      "execution_count": null,
      "metadata": {
        "id": "mSKRbtN1hQky"
      },
      "outputs": [],
      "source": [
        "\n",
        "#@title Keyframe Modification Parameters\n",
        "#@markdown Fill in the blanks to set your parameters.\n",
        "\n",
        "keyframe_data = \"\"  #@param {type:\"string\"}\n",
        "segment_size = None  #@param {type:\"integer\"}\n",
        "replacement_strength = \"\"  #@param {type:\"string\"}\n",
        "\n",
        "import re\n",
        "from IPython.display import display, HTML\n",
        "\n",
        "# Step 1: Split the keyframe data into individual pairs of frame numbers and strength values\n",
        "pattern = r\"(\\d+):\\((\\d+\\.\\d+)\\)\"\n",
        "keyframe_pairs = re.findall(pattern, keyframe_data)\n",
        "\n",
        "# Step 2: Divide the keyframe pairs into segments of the specified size\n",
        "segments = [keyframe_pairs[i:i + segment_size] for i in range(0, len(keyframe_pairs), segment_size)]\n",
        "\n",
        "# Step 3: Iterate through each segment and find the lowest strength value\n",
        "modified_pairs = []\n",
        "for segment in segments:\n",
        "    lowest_strength = min(float(pair[1]) for pair in segment)\n",
        "\n",
        "    # Step 4: Replace the lowest strength value with the replacement_strength within the segment\n",
        "    modified_segment = [(pair[0], replacement_strength) if float(pair[1]) == lowest_strength else pair for pair in segment]\n",
        "\n",
        "    modified_pairs.extend(modified_segment)\n",
        "\n",
        "# Step 5: Generate the modified keyframe data string\n",
        "modified_keyframe_data = \", \".join([f\"{frame}:({strength})\" for frame, strength in modified_pairs])\n",
        "\n",
        "# Display the modified keyframe data with a button for copying the output\n",
        "button_html = f'<button onclick=\"navigator.clipboard.writeText(\\'{modified_keyframe_data}\\')\">Copy Output</button>'\n",
        "display(HTML(modified_keyframe_data + button_html))"
      ]
    },
    {
      "cell_type": "code",
      "source": [
        "# Define the dictionary with number to strength mappings\n",
        "strength_mapping = {}\n",
        "\n",
        "# List of numbers to be updated\n",
        "numbers = []\n",
        "\n",
        "# Update the list of numbers with the corresponding strength values\n",
        "updated_numbers = [f\"{num}:({strength_mapping[num]:.2f})\" for num in numbers]\n",
        "\n",
        "# Print the updated list\n",
        "for updated_num in updated_numbers:\n",
        "    print(updated_num)\n"
      ],
      "metadata": {
        "id": "8HX5VAGcKmWV"
      },
      "execution_count": null,
      "outputs": []
    }
  ]
}